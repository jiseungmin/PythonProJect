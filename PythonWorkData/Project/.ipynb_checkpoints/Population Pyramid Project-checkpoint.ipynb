{
 "cells": [
  {
   "cell_type": "markdown",
   "id": "3745efa2",
   "metadata": {},
   "source": [
    "# 인구 피라미드"
   ]
  },
  {
   "cell_type": "markdown",
   "id": "9ce01314",
   "metadata": {},
   "source": [
    "# 남자 데이터 정의"
   ]
  },
  {
   "cell_type": "code",
   "execution_count": 1,
   "id": "b33d2bfd",
   "metadata": {},
   "outputs": [
    {
     "name": "stderr",
     "output_type": "stream",
     "text": [
      "/Users/jiseungmin/miniforge3/envs/tf/lib/python3.8/site-packages/openpyxl/styles/stylesheet.py:226: UserWarning: Workbook contains no default style, apply openpyxl's default\n",
      "  warn(\"Workbook contains no default style, apply openpyxl's default\")\n"
     ]
    },
    {
     "data": {
      "text/html": [
       "<div>\n",
       "<style scoped>\n",
       "    .dataframe tbody tr th:only-of-type {\n",
       "        vertical-align: middle;\n",
       "    }\n",
       "\n",
       "    .dataframe tbody tr th {\n",
       "        vertical-align: top;\n",
       "    }\n",
       "\n",
       "    .dataframe thead th {\n",
       "        text-align: right;\n",
       "    }\n",
       "</style>\n",
       "<table border=\"1\" class=\"dataframe\">\n",
       "  <thead>\n",
       "    <tr style=\"text-align: right;\">\n",
       "      <th></th>\n",
       "      <th>0~4세</th>\n",
       "      <th>5~9세</th>\n",
       "      <th>10~14세</th>\n",
       "      <th>15~19세</th>\n",
       "      <th>20~24세</th>\n",
       "      <th>25~29세</th>\n",
       "      <th>30~34세</th>\n",
       "      <th>35~39세</th>\n",
       "      <th>40~44세</th>\n",
       "      <th>45~49세</th>\n",
       "      <th>...</th>\n",
       "      <th>55~59세</th>\n",
       "      <th>60~64세</th>\n",
       "      <th>65~69세</th>\n",
       "      <th>70~74세</th>\n",
       "      <th>75~79세</th>\n",
       "      <th>80~84세</th>\n",
       "      <th>85~89세</th>\n",
       "      <th>90~94세</th>\n",
       "      <th>95~99세</th>\n",
       "      <th>100세 이상</th>\n",
       "    </tr>\n",
       "    <tr>\n",
       "      <th>행정기관</th>\n",
       "      <th></th>\n",
       "      <th></th>\n",
       "      <th></th>\n",
       "      <th></th>\n",
       "      <th></th>\n",
       "      <th></th>\n",
       "      <th></th>\n",
       "      <th></th>\n",
       "      <th></th>\n",
       "      <th></th>\n",
       "      <th></th>\n",
       "      <th></th>\n",
       "      <th></th>\n",
       "      <th></th>\n",
       "      <th></th>\n",
       "      <th></th>\n",
       "      <th></th>\n",
       "      <th></th>\n",
       "      <th></th>\n",
       "      <th></th>\n",
       "      <th></th>\n",
       "    </tr>\n",
       "  </thead>\n",
       "  <tbody>\n",
       "    <tr>\n",
       "      <th>전국</th>\n",
       "      <td>754,921</td>\n",
       "      <td>1,112,691</td>\n",
       "      <td>1,218,920</td>\n",
       "      <td>1,203,754</td>\n",
       "      <td>1,581,338</td>\n",
       "      <td>1,851,518</td>\n",
       "      <td>1,703,459</td>\n",
       "      <td>1,738,641</td>\n",
       "      <td>2,054,511</td>\n",
       "      <td>2,080,832</td>\n",
       "      <td>...</td>\n",
       "      <td>2,083,442</td>\n",
       "      <td>2,070,852</td>\n",
       "      <td>1,488,946</td>\n",
       "      <td>1,020,201</td>\n",
       "      <td>706,712</td>\n",
       "      <td>482,633</td>\n",
       "      <td>204,566</td>\n",
       "      <td>51,887</td>\n",
       "      <td>9,161</td>\n",
       "      <td>1,540</td>\n",
       "    </tr>\n",
       "    <tr>\n",
       "      <th>서울특별시</th>\n",
       "      <td>121,468</td>\n",
       "      <td>168,445</td>\n",
       "      <td>188,322</td>\n",
       "      <td>197,033</td>\n",
       "      <td>281,414</td>\n",
       "      <td>395,962</td>\n",
       "      <td>372,927</td>\n",
       "      <td>341,730</td>\n",
       "      <td>365,650</td>\n",
       "      <td>362,420</td>\n",
       "      <td>...</td>\n",
       "      <td>345,844</td>\n",
       "      <td>344,988</td>\n",
       "      <td>264,855</td>\n",
       "      <td>186,696</td>\n",
       "      <td>136,041</td>\n",
       "      <td>88,858</td>\n",
       "      <td>34,693</td>\n",
       "      <td>9,161</td>\n",
       "      <td>1,839</td>\n",
       "      <td>425</td>\n",
       "    </tr>\n",
       "    <tr>\n",
       "      <th>부산광역시</th>\n",
       "      <td>43,124</td>\n",
       "      <td>66,181</td>\n",
       "      <td>68,939</td>\n",
       "      <td>67,605</td>\n",
       "      <td>97,038</td>\n",
       "      <td>113,116</td>\n",
       "      <td>101,976</td>\n",
       "      <td>103,642</td>\n",
       "      <td>127,811</td>\n",
       "      <td>124,455</td>\n",
       "      <td>...</td>\n",
       "      <td>130,029</td>\n",
       "      <td>143,671</td>\n",
       "      <td>116,014</td>\n",
       "      <td>82,343</td>\n",
       "      <td>55,227</td>\n",
       "      <td>34,793</td>\n",
       "      <td>12,837</td>\n",
       "      <td>2,986</td>\n",
       "      <td>455</td>\n",
       "      <td>85</td>\n",
       "    </tr>\n",
       "  </tbody>\n",
       "</table>\n",
       "<p>3 rows × 21 columns</p>\n",
       "</div>"
      ],
      "text/plain": [
       "            0~4세       5~9세     10~14세     15~19세     20~24세     25~29세  \\\n",
       "행정기관                                                                      \n",
       "전국       754,921  1,112,691  1,218,920  1,203,754  1,581,338  1,851,518   \n",
       "서울특별시    121,468    168,445    188,322    197,033    281,414    395,962   \n",
       "부산광역시     43,124     66,181     68,939     67,605     97,038    113,116   \n",
       "\n",
       "            30~34세     35~39세     40~44세     45~49세  ...     55~59세  \\\n",
       "행정기관                                                 ...              \n",
       "전국       1,703,459  1,738,641  2,054,511  2,080,832  ...  2,083,442   \n",
       "서울특별시      372,927    341,730    365,650    362,420  ...    345,844   \n",
       "부산광역시      101,976    103,642    127,811    124,455  ...    130,029   \n",
       "\n",
       "            60~64세     65~69세     70~74세   75~79세   80~84세   85~89세  90~94세  \\\n",
       "행정기관                                                                          \n",
       "전국       2,070,852  1,488,946  1,020,201  706,712  482,633  204,566  51,887   \n",
       "서울특별시      344,988    264,855    186,696  136,041   88,858   34,693   9,161   \n",
       "부산광역시      143,671    116,014     82,343   55,227   34,793   12,837   2,986   \n",
       "\n",
       "        95~99세 100세 이상  \n",
       "행정기관                    \n",
       "전국       9,161   1,540  \n",
       "서울특별시    1,839     425  \n",
       "부산광역시      455      85  \n",
       "\n",
       "[3 rows x 21 columns]"
      ]
     },
     "execution_count": 1,
     "metadata": {},
     "output_type": "execute_result"
    }
   ],
   "source": [
    "import pandas as pd\n",
    "filename = '202206_202206_연령별인구현황_월간.xlsx'\n",
    "df_m = pd.read_excel(filename, skiprows=3, index_col='행정기관', usecols=\"B,E:Y\")\n",
    "df_m.head(3)"
   ]
  },
  {
   "cell_type": "code",
   "execution_count": 3,
   "id": "829e982c",
   "metadata": {},
   "outputs": [
    {
     "data": {
      "text/plain": [
       "0~4세        754921\n",
       "5~9세       1112691\n",
       "10~14세     1218920\n",
       "15~19세     1203754\n",
       "20~24세     1581338\n",
       "25~29세     1851518\n",
       "30~34세     1703459\n",
       "35~39세     1738641\n",
       "40~44세     2054511\n",
       "45~49세     2080832\n",
       "50~54세     2291259\n",
       "55~59세     2083442\n",
       "60~64세     2070852\n",
       "65~69세     1488946\n",
       "70~74세     1020201\n",
       "75~79세      706712\n",
       "80~84세      482633\n",
       "85~89세      204566\n",
       "90~94세       51887\n",
       "95~99세        9161\n",
       "100세 이상       1540\n",
       "Name: 전국  , dtype: object"
      ]
     },
     "execution_count": 3,
     "metadata": {},
     "output_type": "execute_result"
    }
   ],
   "source": [
    "df_m.iloc[0] = df_m.iloc[0].str.replace(\",\", \"\").astype(int) # 1,193,076 을 정수형으로\n",
    "df_m.iloc[0]"
   ]
  },
  {
   "cell_type": "markdown",
   "id": "8ef2a482",
   "metadata": {},
   "source": [
    "# 여자 데이터 정의"
   ]
  },
  {
   "cell_type": "code",
   "execution_count": 4,
   "id": "c4104226",
   "metadata": {},
   "outputs": [
    {
     "name": "stderr",
     "output_type": "stream",
     "text": [
      "/Users/jiseungmin/miniforge3/envs/tf/lib/python3.8/site-packages/openpyxl/styles/stylesheet.py:226: UserWarning: Workbook contains no default style, apply openpyxl's default\n",
      "  warn(\"Workbook contains no default style, apply openpyxl's default\")\n"
     ]
    },
    {
     "data": {
      "text/html": [
       "<div>\n",
       "<style scoped>\n",
       "    .dataframe tbody tr th:only-of-type {\n",
       "        vertical-align: middle;\n",
       "    }\n",
       "\n",
       "    .dataframe tbody tr th {\n",
       "        vertical-align: top;\n",
       "    }\n",
       "\n",
       "    .dataframe thead th {\n",
       "        text-align: right;\n",
       "    }\n",
       "</style>\n",
       "<table border=\"1\" class=\"dataframe\">\n",
       "  <thead>\n",
       "    <tr style=\"text-align: right;\">\n",
       "      <th></th>\n",
       "      <th>0~4세.1</th>\n",
       "      <th>5~9세.1</th>\n",
       "      <th>10~14세.1</th>\n",
       "      <th>15~19세.1</th>\n",
       "      <th>20~24세.1</th>\n",
       "      <th>25~29세.1</th>\n",
       "      <th>30~34세.1</th>\n",
       "      <th>35~39세.1</th>\n",
       "      <th>40~44세.1</th>\n",
       "      <th>45~49세.1</th>\n",
       "      <th>...</th>\n",
       "      <th>55~59세.1</th>\n",
       "      <th>60~64세.1</th>\n",
       "      <th>65~69세.1</th>\n",
       "      <th>70~74세.1</th>\n",
       "      <th>75~79세.1</th>\n",
       "      <th>80~84세.1</th>\n",
       "      <th>85~89세.1</th>\n",
       "      <th>90~94세.1</th>\n",
       "      <th>95~99세.1</th>\n",
       "      <th>100세 이상.1</th>\n",
       "    </tr>\n",
       "    <tr>\n",
       "      <th>행정기관</th>\n",
       "      <th></th>\n",
       "      <th></th>\n",
       "      <th></th>\n",
       "      <th></th>\n",
       "      <th></th>\n",
       "      <th></th>\n",
       "      <th></th>\n",
       "      <th></th>\n",
       "      <th></th>\n",
       "      <th></th>\n",
       "      <th></th>\n",
       "      <th></th>\n",
       "      <th></th>\n",
       "      <th></th>\n",
       "      <th></th>\n",
       "      <th></th>\n",
       "      <th></th>\n",
       "      <th></th>\n",
       "      <th></th>\n",
       "      <th></th>\n",
       "      <th></th>\n",
       "    </tr>\n",
       "  </thead>\n",
       "  <tbody>\n",
       "    <tr>\n",
       "      <th>전국</th>\n",
       "      <td>717,188</td>\n",
       "      <td>1,059,774</td>\n",
       "      <td>1,150,635</td>\n",
       "      <td>1,123,068</td>\n",
       "      <td>1,456,860</td>\n",
       "      <td>1,658,165</td>\n",
       "      <td>1,557,299</td>\n",
       "      <td>1,653,900</td>\n",
       "      <td>1,985,513</td>\n",
       "      <td>2,020,818</td>\n",
       "      <td>...</td>\n",
       "      <td>2,033,770</td>\n",
       "      <td>2,112,492</td>\n",
       "      <td>1,588,492</td>\n",
       "      <td>1,156,910</td>\n",
       "      <td>911,334</td>\n",
       "      <td>770,450</td>\n",
       "      <td>450,257</td>\n",
       "      <td>172,173</td>\n",
       "      <td>39,137</td>\n",
       "      <td>6,899</td>\n",
       "    </tr>\n",
       "    <tr>\n",
       "      <th>서울특별시</th>\n",
       "      <td>113,933</td>\n",
       "      <td>160,893</td>\n",
       "      <td>178,108</td>\n",
       "      <td>189,522</td>\n",
       "      <td>314,911</td>\n",
       "      <td>420,435</td>\n",
       "      <td>373,345</td>\n",
       "      <td>342,726</td>\n",
       "      <td>371,437</td>\n",
       "      <td>371,416</td>\n",
       "      <td>...</td>\n",
       "      <td>357,415</td>\n",
       "      <td>377,932</td>\n",
       "      <td>302,966</td>\n",
       "      <td>219,465</td>\n",
       "      <td>168,228</td>\n",
       "      <td>121,545</td>\n",
       "      <td>64,806</td>\n",
       "      <td>25,211</td>\n",
       "      <td>6,320</td>\n",
       "      <td>1,301</td>\n",
       "    </tr>\n",
       "    <tr>\n",
       "      <th>부산광역시</th>\n",
       "      <td>41,007</td>\n",
       "      <td>62,870</td>\n",
       "      <td>65,361</td>\n",
       "      <td>63,478</td>\n",
       "      <td>92,042</td>\n",
       "      <td>103,915</td>\n",
       "      <td>95,375</td>\n",
       "      <td>99,708</td>\n",
       "      <td>124,171</td>\n",
       "      <td>123,445</td>\n",
       "      <td>...</td>\n",
       "      <td>138,348</td>\n",
       "      <td>160,238</td>\n",
       "      <td>131,192</td>\n",
       "      <td>97,478</td>\n",
       "      <td>69,541</td>\n",
       "      <td>53,647</td>\n",
       "      <td>27,819</td>\n",
       "      <td>10,237</td>\n",
       "      <td>2,275</td>\n",
       "      <td>350</td>\n",
       "    </tr>\n",
       "  </tbody>\n",
       "</table>\n",
       "<p>3 rows × 21 columns</p>\n",
       "</div>"
      ],
      "text/plain": [
       "          0~4세.1     5~9세.1   10~14세.1   15~19세.1   20~24세.1   25~29세.1  \\\n",
       "행정기관                                                                      \n",
       "전국       717,188  1,059,774  1,150,635  1,123,068  1,456,860  1,658,165   \n",
       "서울특별시    113,933    160,893    178,108    189,522    314,911    420,435   \n",
       "부산광역시     41,007     62,870     65,361     63,478     92,042    103,915   \n",
       "\n",
       "          30~34세.1   35~39세.1   40~44세.1   45~49세.1  ...   55~59세.1  \\\n",
       "행정기관                                                 ...              \n",
       "전국       1,557,299  1,653,900  1,985,513  2,020,818  ...  2,033,770   \n",
       "서울특별시      373,345    342,726    371,437    371,416  ...    357,415   \n",
       "부산광역시       95,375     99,708    124,171    123,445  ...    138,348   \n",
       "\n",
       "          60~64세.1   65~69세.1   70~74세.1 75~79세.1 80~84세.1 85~89세.1 90~94세.1  \\\n",
       "행정기관                                                                           \n",
       "전국       2,112,492  1,588,492  1,156,910  911,334  770,450  450,257  172,173   \n",
       "서울특별시      377,932    302,966    219,465  168,228  121,545   64,806   25,211   \n",
       "부산광역시      160,238    131,192     97,478   69,541   53,647   27,819   10,237   \n",
       "\n",
       "        95~99세.1 100세 이상.1  \n",
       "행정기관                        \n",
       "전국        39,137     6,899  \n",
       "서울특별시      6,320     1,301  \n",
       "부산광역시      2,275       350  \n",
       "\n",
       "[3 rows x 21 columns]"
      ]
     },
     "execution_count": 4,
     "metadata": {},
     "output_type": "execute_result"
    }
   ],
   "source": [
    "df_w = pd.read_excel(filename, skiprows=3, index_col='행정기관', usecols=\"B,AB:AV\")\n",
    "df_w.head(3)"
   ]
  },
  {
   "cell_type": "code",
   "execution_count": 5,
   "id": "9d522c6b",
   "metadata": {},
   "outputs": [
    {
     "data": {
      "text/plain": [
       "0~4세.1        717188\n",
       "5~9세.1       1059774\n",
       "10~14세.1     1150635\n",
       "15~19세.1     1123068\n",
       "20~24세.1     1456860\n",
       "25~29세.1     1658165\n",
       "30~34세.1     1557299\n",
       "35~39세.1     1653900\n",
       "40~44세.1     1985513\n",
       "45~49세.1     2020818\n",
       "50~54세.1     2241260\n",
       "55~59세.1     2033770\n",
       "60~64세.1     2112492\n",
       "65~69세.1     1588492\n",
       "70~74세.1     1156910\n",
       "75~79세.1      911334\n",
       "80~84세.1      770450\n",
       "85~89세.1      450257\n",
       "90~94세.1      172173\n",
       "95~99세.1       39137\n",
       "100세 이상.1       6899\n",
       "Name: 전국  , dtype: object"
      ]
     },
     "execution_count": 5,
     "metadata": {},
     "output_type": "execute_result"
    }
   ],
   "source": [
    "df_w.iloc[0] = df_w.iloc[0].str.replace(\",\", \"\").astype(int) # 1,193,076 을 정수형으로\n",
    "df_w.iloc[0]"
   ]
  },
  {
   "cell_type": "code",
   "execution_count": 6,
   "id": "5a9b6748",
   "metadata": {},
   "outputs": [
    {
     "data": {
      "text/plain": [
       "Index(['0~4세', '5~9세', '10~14세', '15~19세', '20~24세', '25~29세', '30~34세',\n",
       "       '35~39세', '40~44세', '45~49세', '50~54세', '55~59세', '60~64세', '65~69세',\n",
       "       '70~74세', '75~79세', '80~84세', '85~89세', '90~94세', '95~99세', '100세 이상'],\n",
       "      dtype='object')"
      ]
     },
     "execution_count": 6,
     "metadata": {},
     "output_type": "execute_result"
    }
   ],
   "source": [
    "df_m.columns"
   ]
  },
  {
   "cell_type": "code",
   "execution_count": 7,
   "id": "58ddd6ac",
   "metadata": {},
   "outputs": [
    {
     "data": {
      "text/plain": [
       "Index(['0~4세', '5~9세', '10~14세', '15~19세', '20~24세', '25~29세', '30~34세',\n",
       "       '35~39세', '40~44세', '45~49세', '50~54세', '55~59세', '60~64세', '65~69세',\n",
       "       '70~74세', '75~79세', '80~84세', '85~89세', '90~94세', '95~99세', '100세 이상'],\n",
       "      dtype='object')"
      ]
     },
     "execution_count": 7,
     "metadata": {},
     "output_type": "execute_result"
    }
   ],
   "source": [
    "df_w.columns = df_m.columns\n",
    "df_w.columns"
   ]
  },
  {
   "cell_type": "markdown",
   "id": "adf5d58d",
   "metadata": {},
   "source": [
    "# 데이터 시각화"
   ]
  },
  {
   "cell_type": "code",
   "execution_count": 8,
   "id": "d498e687",
   "metadata": {},
   "outputs": [],
   "source": [
    "import matplotlib.pyplot as plt\n",
    "import matplotlib\n",
    "matplotlib.rcParams['font.family'] = \"AppleGothic\"\n",
    "matplotlib.rcParams['font.size'] = 15\n",
    "matplotlib.rcParams['axes.unicode_minus'] = False # 한글 폰트 사용시 마이너스 깨짐 현상 해결"
   ]
  },
  {
   "cell_type": "code",
   "execution_count": 9,
   "id": "89787d05",
   "metadata": {},
   "outputs": [
    {
     "data": {
      "image/png": "[encoded data removed]",
      "text/plain": [
       "<Figure size 720x504 with 1 Axes>"
      ]
     },
     "metadata": {
      "needs_background": "light"
     },
     "output_type": "display_data"
    }
   ],
   "source": [
    "plt.figure(figsize=(10,7))\n",
    "plt.barh(df_m.columns, -df_m.iloc[0] // 1000)\n",
    "plt.barh(df_w.columns, df_w.iloc[0] // 1000)\n",
    "plt.title(\"2022년 대한민국 인구 피라미드\")\n",
    "plt.savefig(\"2022년 인구피라미드.png\", dpi=100)\n",
    "plt.show()"
   ]
  }
 ],
 "metadata": {
  "kernelspec": {
   "display_name": "Python 3 (ipykernel)",
   "language": "python",
   "name": "python3"
  },
  "language_info": {
   "codemirror_mode": {
    "name": "ipython",
    "version": 3
   },
   "file_extension": ".py",
   "mimetype": "text/x-python",
   "name": "python",
   "nbconvert_exporter": "python",
   "pygments_lexer": "ipython3",
   "version": "3.8.13"
  }
 },
 "nbformat": 4,
 "nbformat_minor": 5
}
