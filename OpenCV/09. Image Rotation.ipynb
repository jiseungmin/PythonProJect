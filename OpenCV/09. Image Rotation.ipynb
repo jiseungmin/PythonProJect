{
 "cells": [
  {
   "cell_type": "markdown",
   "id": "4f7d7698",
   "metadata": {},
   "source": [
    "# 9. 이미지 회전"
   ]
  },
  {
   "cell_type": "markdown",
   "id": "a256c2b3",
   "metadata": {},
   "source": [
    "## 90 도로 회전"
   ]
  },
  {
   "cell_type": "code",
   "execution_count": 1,
   "id": "1c8723c0",
   "metadata": {},
   "outputs": [],
   "source": [
    "import cv2\n",
    "img = cv2.imread('img.jpg')\n",
    "\n",
    "rotate_90 = cv2.rotate(img, cv2.ROTATE_90_CLOCKWISE) # 시계방향으로 90도 회전\n",
    "\n",
    "cv2.imshow('img', img)\n",
    "cv2.imshow('rotate_90', rotate_90)\n",
    "cv2.waitKey(0)\n",
    "cv2.destroyAllWindows() # 모든 창 닫기\n",
    "for i in range (1,5):\n",
    "    cv2.waitKey(1)"
   ]
  },
  {
   "cell_type": "markdown",
   "id": "a2e6646f",
   "metadata": {},
   "source": [
    "## 180도 회전"
   ]
  },
  {
   "cell_type": "code",
   "execution_count": 4,
   "id": "a7a42b46",
   "metadata": {},
   "outputs": [],
   "source": [
    "import cv2\n",
    "img = cv2.imread('img.jpg')\n",
    "\n",
    "rotate_180 = cv2.rotate(img, cv2.ROTATE_180) # 시계방향으로 90도 회전\n",
    "\n",
    "cv2.imshow('img', img)\n",
    "cv2.imshow('rotate_180', rotate_180)\n",
    "cv2.waitKey(0)\n",
    "cv2.destroyAllWindows() # 모든 창 닫기\n",
    "for i in range (1,5):\n",
    "    cv2.waitKey(1)"
   ]
  },
  {
   "cell_type": "markdown",
   "id": "5631e18f",
   "metadata": {},
   "source": [
    "## 시계반대 방향으로 회전"
   ]
  },
  {
   "cell_type": "code",
   "execution_count": 8,
   "id": "f7e90ce8",
   "metadata": {},
   "outputs": [],
   "source": [
    "import cv2\n",
    "img = cv2.imread('img.jpg')\n",
    "\n",
    "rotate_270 = cv2.rotate(img, cv2.ROTATE_90_COUNTERCLOCKWISE) # 시계방향으로 90도 회전\n",
    "\n",
    "cv2.imshow('img', img)\n",
    "cv2.imshow('rotate_270', rotate_270)\n",
    "cv2.waitKey(0)\n",
    "cv2.destroyAllWindows() # 모든 창 닫기\n",
    "for i in range (1,5):\n",
    "    cv2.waitKey(1)"
   ]
  }
 ],
 "metadata": {
  "kernelspec": {
   "display_name": "Python 3 (ipykernel)",
   "language": "python",
   "name": "python3"
  },
  "language_info": {
   "codemirror_mode": {
    "name": "ipython",
    "version": 3
   },
   "file_extension": ".py",
   "mimetype": "text/x-python",
   "name": "python",
   "nbconvert_exporter": "python",
   "pygments_lexer": "ipython3",
   "version": "3.8.6"
  }
 },
 "nbformat": 4,
 "nbformat_minor": 5
}
