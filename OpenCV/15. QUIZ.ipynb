{
 "cells": [
  {
   "cell_type": "markdown",
   "id": "f473cab5",
   "metadata": {},
   "source": [
    "# 퀴즈"
   ]
  },
  {
   "cell_type": "markdown",
   "id": "70546276",
   "metadata": {},
   "source": [
    "## OpenCV 를 이용하여 가로로 촬영된 동영상을 세로로 회전하는 프로그램을 작성하시오"
   ]
  },
  {
   "cell_type": "markdown",
   "id": "0108d2d9",
   "metadata": {},
   "source": [
    "조건Permalink\n",
    "회전 : 시계 반대방향으로 90도\n",
    "\n",
    "재생속도 (FPS) : 원본 x 4배\n",
    "\n",
    "출력 파일명 : city_output.avi (코덱 : DIVX)\n",
    "\n",
    "원본 파일명 : city.mp4"
   ]
  },
  {
   "cell_type": "code",
   "execution_count": 1,
   "id": "d2d4da16",
   "metadata": {},
   "outputs": [],
   "source": [
    "import cv2\n",
    "cap = cv2.VideoCapture('city.mp4')\n",
    "fourcc = cv2.VideoWriter_fourcc(*'DIVX')\n",
    "width = round(cap.get(cv2.CAP_PROP_FRAME_WIDTH))\n",
    "height = round(cap.get(cv2.CAP_PROP_FRAME_HEIGHT))\n",
    "fps = cap.get(cv2.CAP_PROP_FPS)\n",
    "\n",
    "out = cv2.VideoWriter('city_output.avi', fourcc, fps * 4, (height, width))\n",
    "\n",
    "while cap.isOpened():\n",
    "    ret, frame = cap.read()\n",
    "    if not ret:\n",
    "        break\n",
    "        \n",
    "    rotate_frame = cv2.rotate(frame, cv2.ROTATE_90_COUNTERCLOCKWISE) # 시계 반대 방향으로 90도\n",
    "    out.write(rotate_frame) # 저장하는 부분(90도 회전해서 저장되는 것)\n",
    "    cv2.imshow('video', frame) # 이것은 출력창을 보는거고, frame을 넣은거라 90도 회전은 아님\n",
    "    \n",
    "    if cv2.waitKey(500) == ord('q'):\n",
    "        break\n",
    "        \n",
    "out.release() # out객체 release => 저장 관련\n",
    "cap.release() # cap객체 release => 출력 관련\n",
    "cv2.destroyAllWindows()\n",
    "for i in range (1,5):\n",
    "    cv2.waitKey(1)"
   ]
  }
 ],
 "metadata": {
  "kernelspec": {
   "display_name": "Python 3 (ipykernel)",
   "language": "python",
   "name": "python3"
  },
  "language_info": {
   "codemirror_mode": {
    "name": "ipython",
    "version": 3
   },
   "file_extension": ".py",
   "mimetype": "text/x-python",
   "name": "python",
   "nbconvert_exporter": "python",
   "pygments_lexer": "ipython3",
   "version": "3.8.6"
  }
 },
 "nbformat": 4,
 "nbformat_minor": 5
}
