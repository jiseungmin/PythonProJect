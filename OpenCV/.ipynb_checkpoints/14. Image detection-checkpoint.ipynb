{
 "cells": [
  {
   "cell_type": "markdown",
   "id": "c0e9b935",
   "metadata": {},
   "source": [
    "#  이미지 검출 (경계선)"
   ]
  },
  {
   "cell_type": "markdown",
   "id": "26ab17ea",
   "metadata": {},
   "source": [
    "## Canny Edge Detection"
   ]
  },
  {
   "cell_type": "code",
   "execution_count": 1,
   "id": "4bb70ab6",
   "metadata": {},
   "outputs": [],
   "source": [
    "import cv2\n",
    "img = cv2.imread('snowman.png')\n",
    "\n",
    "canny = cv2.Canny(img, 150, 200)\n",
    "# 대상 이미지, minval(하위임계값), maxVal(상위임계값)\n",
    "\n",
    "cv2.imshow('img', img)\n",
    "cv2.imshow('canny', canny)\n",
    "cv2.waitKey(0)\n",
    "cv2.destroyAllWindows() #  ##\n",
    "for i in range (1,5):\n",
    "    cv2.waitKey(1)"
   ]
  },
  {
   "cell_type": "code",
   "execution_count": null,
   "id": "94c63555",
   "metadata": {},
   "outputs": [],
   "source": [
    "# 트랙바를 통해서 어떤 값에 경계선이 제일 잘 나타나는지 확인\n",
    "# 트랙바가 작동안함\n",
    "import cv2\n",
    "\n",
    "def empty(pos):\n",
    "    pass\n",
    "\n",
    "img = cv2.imread('snowman.png')\n",
    "\n",
    "name = \"Trackbar\"\n",
    "cv2.namedWindow(name)\n",
    "cv2.createTrackbar('threshold1', name, 0, 255, empty) # minVal\n",
    "cv2.createTrackbar('threshold2', name, 0, 255, empty) # maxVal\n",
    "\n",
    "while True:\n",
    "    threshold1 = cv2.getTrackbarPos('threshold1', name)\n",
    "    threshold2 = cv2.getTrackbarPos('threshold2', name)\n",
    "    \n",
    "    canny = cv2.Canny(img, threshold1, threshold2)\n",
    "    # 대상 이미지, minVal (하위임계값), maxVal (상위임계값)\n",
    "    \n",
    "    cv2.imshow('img', img)\n",
    "    cv2.imshow(name, canny)\n",
    "    \n",
    "    if cv2.waitKey(500) == ord('q'):\n",
    "        break\n",
    "\n",
    "cv2.destroyAllWindows()\n",
    "for i in range (1,5):\n",
    "    cv2.waitKey(1)"
   ]
  },
  {
   "cell_type": "markdown",
   "id": "adf2d9c7",
   "metadata": {},
   "source": [
    "# 이미지 검출(윤곽선)"
   ]
  },
  {
   "cell_type": "markdown",
   "id": "bf7a732b",
   "metadata": {},
   "source": [
    "## 윤곽선(Contour) : 경계선을 연결한 선"
   ]
  },
  {
   "cell_type": "code",
   "execution_count": 2,
   "id": "7f36845a",
   "metadata": {},
   "outputs": [],
   "source": [
    "import cv2\n",
    "img = cv2.imread('card.png')\n",
    "target_img = img.copy() # 사본 이미지\n",
    "\n",
    "gray = cv2.cvtColor(img, cv2.COLOR_BGR2GRAY)\n",
    "ret, otsu = cv2.threshold(gray, -1, 255, cv2.THRESH_BINARY | cv2.THRESH_OTSU)\n",
    "\n",
    "contours, hierarchy = cv2.findContours(otsu, cv2.RETR_LIST, cv2.CHAIN_APPROX_NONE) # 윤곽선 검출\n",
    "# 윤곽선 정보, 구조                        이미지, 윤곽선 찾는 모드(mode), 윤곽선 찾을때 사용하는 근사치 방법 (method)\n",
    "\n",
    "# 윤곽선 찾을때 사용하는 근사치 방법 (method) : CHAIN_APPROX_NONE(모든 좌표만), CHAIN_APPROX_SIMPLE(꼭짓점 좌표만)\n",
    "\n",
    "COLOR = (0,200,0) # 녹색\n",
    "cv2.drawContours(target_img, contours, -1, COLOR, 2) # 윤곽선 그리기\n",
    "# 대상 이미지, 윤곽선 정보, 인덱스 (-1 이면 전체), 색깔, 두께\n",
    "\n",
    "cv2.imshow('img', img)\n",
    "cv2.imshow('gray', gray)\n",
    "cv2.imshow('otsu', otsu)\n",
    "cv2.imshow('contour', target_img)\n",
    "\n",
    "cv2.waitKey(0)\n",
    "cv2.destroyAllWindows()\n",
    "for i in range (1,5):\n",
    "    cv2.waitKey(1)"
   ]
  },
  {
   "cell_type": "markdown",
   "id": "b3c2d36b",
   "metadata": {},
   "source": [
    "## 윤곽선 찾기 모드\n",
    "1. cv2.RETR_EXTERNAL : 가장 외곽의 윤곽선만 찾음\n",
    "2. cv2.RETR_LIST: 모든 윤곽선을 찾음(계층 정보 없음)\n",
    "3. cv2.RETR_TREE: 모든 윤곽선 찾음(계층 정보를 트리 구조로 생성)"
   ]
  },
  {
   "cell_type": "code",
   "execution_count": 4,
   "id": "3779a836",
   "metadata": {},
   "outputs": [],
   "source": [
    "import cv2\n",
    "img = cv2.imread('card.png')\n",
    "target_img = img.copy() # 사본 이미지\n",
    "\n",
    "gray = cv2.cvtColor(img, cv2.COLOR_BGR2GRAY)\n",
    "ret, otsu = cv2.threshold(gray, -1, 255, cv2.THRESH_BINARY | cv2.THRESH_OTSU)\n",
    "\n",
    "#contours, hierarchy = cv2.findContours(otsu, cv2.RETR_LIST, cv2.CHAIN_APPROX_NONE) # 윤곽선 검출\n",
    "#contours, hierarchy = cv2.findContours(otsu, cv2.RETR_EXTERNAL, cv2.CHAIN_APPROX_NONE) \n",
    "contours, hierarchy = cv2.findContours(otsu, cv2.RETR_TREE, cv2.CHAIN_APPROX_NONE) \n",
    "COLOR = (0,200,0) # 녹색\n",
    "cv2.drawContours(target_img, contours, -1, COLOR, 2)\n",
    "\n",
    "\n",
    "cv2.imshow('img', img)\n",
    "cv2.imshow('gray', gray)\n",
    "cv2.imshow('otsu', otsu)\n",
    "cv2.imshow('contour', target_img)\n",
    "\n",
    "cv2.waitKey(0)\n",
    "cv2.destroyAllWindows()\n",
    "for i in range (1,5):\n",
    "    cv2.waitKey(1)"
   ]
  },
  {
   "cell_type": "markdown",
   "id": "723b83f3",
   "metadata": {},
   "source": [
    "## 경계 사각형\n",
    "윤곽선의 경계면을 둘러싸는 사각형\n",
    "> boundingRect()"
   ]
  },
  {
   "cell_type": "code",
   "execution_count": 6,
   "id": "7369e895",
   "metadata": {},
   "outputs": [],
   "source": [
    "import cv2\n",
    "img = cv2.imread('card.png')\n",
    "target_img = img.copy() # 사본 이미지\n",
    "\n",
    "gray = cv2.cvtColor(img, cv2.COLOR_BGR2GRAY)\n",
    "ret, otsu = cv2.threshold(gray, -1, 255, cv2.THRESH_BINARY | cv2.THRESH_OTSU)\n",
    "contours, hierarchy = cv2.findContours(otsu, cv2.RETR_LIST, cv2.CHAIN_APPROX_NONE) # 윤곽선 검출\n",
    "\n",
    "COLOR = (0,200,0) # 녹색\n",
    "\n",
    "for cnt in contours :\n",
    "    x, y, width, height = cv2.boundingRect(cnt)\n",
    "    cv2.rectangle(target_img, (x,y), (x+width, y+height), COLOR, 2)\n",
    "\n",
    "\n",
    "cv2.imshow('img', img)\n",
    "cv2.imshow('gray', gray)\n",
    "cv2.imshow('otsu', otsu)\n",
    "cv2.imshow('contour', target_img)\n",
    "\n",
    "cv2.waitKey(0)\n",
    "cv2.destroyAllWindows()\n",
    "for i in range (1,5):\n",
    "    cv2.waitKey(1)"
   ]
  },
  {
   "cell_type": "markdown",
   "id": "04b4f199",
   "metadata": {},
   "source": [
    "## 면적\n",
    "> contourArea()"
   ]
  },
  {
   "cell_type": "code",
   "execution_count": 7,
   "id": "0fd33d4b",
   "metadata": {},
   "outputs": [],
   "source": [
    "import cv2\n",
    "img = cv2.imread('card.png')\n",
    "target_img = img.copy() # 사본 이미지\n",
    "\n",
    "gray = cv2.cvtColor(img, cv2.COLOR_BGR2GRAY)\n",
    "ret, otsu = cv2.threshold(gray, -1, 255, cv2.THRESH_BINARY | cv2.THRESH_OTSU)\n",
    "contours, hierarchy = cv2.findContours(otsu, cv2.RETR_LIST, cv2.CHAIN_APPROX_NONE) # 윤곽선 검출\n",
    "\n",
    "COLOR = (0,200,0) # 녹색\n",
    "\n",
    "for cnt in contours :\n",
    "    if cv2.contourArea(cnt) > 25000 :\n",
    "        x, y, width, height = cv2.boundingRect(cnt)\n",
    "        cv2.rectangle(target_img, (x,y), (x+width, y+height), COLOR, 2)\n",
    "\n",
    "\n",
    "cv2.imshow('img', img)\n",
    "cv2.imshow('contour', target_img)\n",
    "\n",
    "cv2.waitKey(0)\n",
    "cv2.destroyAllWindows()\n",
    "for i in range (1,5):\n",
    "    cv2.waitKey(1)"
   ]
  },
  {
   "cell_type": "markdown",
   "id": "dd115628",
   "metadata": {},
   "source": [
    "# 미니 프로젝트 : 개별 카드 추출해서 파일 저장"
   ]
  },
  {
   "cell_type": "code",
   "execution_count": 11,
   "id": "97cf6b99",
   "metadata": {},
   "outputs": [],
   "source": [
    "import cv2\n",
    "img = cv2.imread('card.png')\n",
    "target_img = img.copy() # 사본 이미지\n",
    "\n",
    "gray = cv2.cvtColor(img, cv2.COLOR_BGR2GRAY)\n",
    "ret, otsu = cv2.threshold(gray, -1, 255, cv2.THRESH_BINARY | cv2.THRESH_OTSU)\n",
    "contours, hierarchy = cv2.findContours(otsu, cv2.RETR_LIST, cv2.CHAIN_APPROX_NONE) # 윤곽선 검출\n",
    "\n",
    "COLOR = (0,200,0) # 녹색\n",
    "\n",
    "idx = 1\n",
    "for cnt in contours :\n",
    "    if cv2.contourArea(cnt) > 25000 :\n",
    "        x, y, width, height = cv2.boundingRect(cnt)\n",
    "        cv2.rectangle(target_img, (x,y), (x+width, y+height), COLOR, 2)\n",
    "        \n",
    "        crop = img[y:y+height, x:x+width]\n",
    "        cv2.imshow(f'card_crop_{idx}', crop)\n",
    "        cv2.imwrite(f'card_crop_{idx}.png', crop) # 파일 저장\n",
    "        idx += 1\n",
    "\n",
    "\n",
    "cv2.imshow('img', img)\n",
    "cv2.imshow('contour', target_img)\n",
    "\n",
    "cv2.waitKey(0)\n",
    "cv2.destroyAllWindows()\n",
    "for i in range (1,5):\n",
    "    cv2.waitKey(1)"
   ]
  }
 ],
 "metadata": {
  "kernelspec": {
   "display_name": "Python 3 (ipykernel)",
   "language": "python",
   "name": "python3"
  },
  "language_info": {
   "codemirror_mode": {
    "name": "ipython",
    "version": 3
   },
   "file_extension": ".py",
   "mimetype": "text/x-python",
   "name": "python",
   "nbconvert_exporter": "python",
   "pygments_lexer": "ipython3",
   "version": "3.8.13"
  }
 },
 "nbformat": 4,
 "nbformat_minor": 5
}
