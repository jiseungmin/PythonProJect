{
 "cells": [
  {
   "cell_type": "markdown",
   "id": "c43ff6cd",
   "metadata": {},
   "source": [
    "# 이미지 변형 이진화\n",
    "- mac에서 트랙바에 안움직이는 현상이 나타남 해결해야할 문제"
   ]
  },
  {
   "cell_type": "code",
   "execution_count": 1,
   "id": "4811da34",
   "metadata": {},
   "outputs": [],
   "source": [
    "import cv2\n",
    "img = cv2.imread('book.jpg', cv2.IMREAD_GRAYSCALE)\n",
    "\n",
    "ret, binary = cv2.threshold(img, 127, 255, cv2.THRESH_BINARY)\n",
    "\n",
    "cv2.imshow('img', img)\n",
    "cv2.imshow('binary', binary)\n",
    "cv2.waitKey(0)\n",
    "cv2.destroyAllWindows() # 모든 창 닫기\n",
    "for i in range (1,5):\n",
    "    cv2.waitKey(1)"
   ]
  },
  {
   "cell_type": "markdown",
   "id": "544493d8",
   "metadata": {},
   "source": [
    "## Trackbar ( 값 변화에 따른 변형 확인)"
   ]
  },
  {
   "cell_type": "code",
   "execution_count": 1,
   "id": "8b1d96b6",
   "metadata": {},
   "outputs": [
    {
     "name": "stderr",
     "output_type": "stream",
     "text": [
      "[ WARN:0@0.031] global /Users/xperience/actions-runner/_work/opencv-python/opencv-python/opencv/modules/imgcodecs/src/loadsave.cpp (239) findDecoder imread_('book.jpg'): can't open/read file: check file path/integrity\n"
     ]
    },
    {
     "ename": "error",
     "evalue": "OpenCV(4.6.0) /Users/xperience/actions-runner/_work/opencv-python/opencv-python/opencv/modules/highgui/src/window.cpp:967: error: (-215:Assertion failed) size.width>0 && size.height>0 in function 'imshow'\n",
     "output_type": "error",
     "traceback": [
      "\u001b[0;31m---------------------------------------------------------------------------\u001b[0m",
      "\u001b[0;31merror\u001b[0m                                     Traceback (most recent call last)",
      "Input \u001b[0;32mIn [1]\u001b[0m, in \u001b[0;36m<cell line: 15>\u001b[0;34m()\u001b[0m\n\u001b[1;32m     18\u001b[0m \u001b[38;5;28;01mif\u001b[39;00m \u001b[38;5;129;01mnot\u001b[39;00m ret:\n\u001b[1;32m     19\u001b[0m     \u001b[38;5;28;01mbreak\u001b[39;00m\n\u001b[0;32m---> 21\u001b[0m \u001b[43mcv2\u001b[49m\u001b[38;5;241;43m.\u001b[39;49m\u001b[43mimshow\u001b[49m\u001b[43m(\u001b[49m\u001b[43mname\u001b[49m\u001b[43m,\u001b[49m\u001b[43m \u001b[49m\u001b[43mbinary\u001b[49m\u001b[43m)\u001b[49m\n\u001b[1;32m     22\u001b[0m \u001b[38;5;28;01mif\u001b[39;00m cv2\u001b[38;5;241m.\u001b[39mwaitKey(\u001b[38;5;241m1\u001b[39m) \u001b[38;5;241m==\u001b[39m \u001b[38;5;28mord\u001b[39m(\u001b[38;5;124m'\u001b[39m\u001b[38;5;124mq\u001b[39m\u001b[38;5;124m'\u001b[39m):\n\u001b[1;32m     23\u001b[0m     \u001b[38;5;28;01mbreak\u001b[39;00m\n",
      "\u001b[0;31merror\u001b[0m: OpenCV(4.6.0) /Users/xperience/actions-runner/_work/opencv-python/opencv-python/opencv/modules/highgui/src/window.cpp:967: error: (-215:Assertion failed) size.width>0 && size.height>0 in function 'imshow'\n"
     ]
    }
   ],
   "source": [
    "import cv2\n",
    "\n",
    "def empty(pos):\n",
    "    # print(pos)\n",
    "    pass\n",
    "\n",
    "img = cv2.imread('book.jpg', cv2.IMREAD_GRAYSCALE)\n",
    "\n",
    "name = 'Trackbar'\n",
    "cv2.namedWindow(name)\n",
    "\n",
    "cv2.createTrackbar('threshold', name, 127, 255, empty) # bar 이름, 창의 이름, 초기값, 최대값, 이벤트 처리\n",
    "\n",
    "while True:\n",
    "    thresh = cv2.getTrackbarPos('threshold', name) # bar 이름, 창의 이름\n",
    "    ret, binary = cv2.threshold(img, thresh, 255, cv2.THRESH_BINARY) # 트랙바의 값을 통해 임계값을 수정하는 것\n",
    "    \n",
    "    if not ret:\n",
    "        break\n",
    "        \n",
    "    cv2.imshow(name, binary)\n",
    "    if cv2.waitKey(1) == ord('q'):\n",
    "        break\n",
    "        \n",
    "cv2.destroyAllWindows()\n",
    "for i in range (1,5):\n",
    "    cv2.waitKey(1)"
   ]
  },
  {
   "cell_type": "markdown",
   "id": "3a76bbb4",
   "metadata": {},
   "source": [
    "# Adaptive Threshold\n",
    "이미지를 작은 영역으로 나누어서 임계치 적용"
   ]
  },
  {
   "cell_type": "code",
   "execution_count": null,
   "id": "82c7d645",
   "metadata": {},
   "outputs": [],
   "source": [
    "import cv2\n",
    "def empty(pos):\n",
    "    # print(pos)\n",
    "    pass\n",
    "\n",
    "img = cv2.imread('book.jpg', cv2.IMREAD_GRAYSCALE)\n",
    "\n",
    "name = 'Trackbar'\n",
    "cv2.namedWindow(name)\n",
    "\n",
    "cv2.createTrackbar('block_size', name, 25, 100, empty) # 홀수만 가능, 1보다는 큰 값\n",
    "cv2.createTrackbar('c', name, 3, 10, empty) # 일반적으로 양수의 값을 사용\n",
    "\n",
    "while True :\n",
    "    block_size = cv2.getTrackbarPos('block_size', name) # bar 이름, 창의 이름\n",
    "    c = cv2.getTrackbarPos('c', name) # bar 이름, 창의 이름\n",
    "    if block_size <= 1 : # 1 이하면 3으로\n",
    "        block_size =3\n",
    "    if block_size % 2 == 0 : # 짝수이면 홀수로\n",
    "        block_size +=1\n",
    "    binary = cv2.adaptiveThreshold(img, 255, cv2.ADAPTIVE_THRESH_MEAN_C, cv2.THRESH_BINARY, block_size, c)\n",
    "    cv2.imshow(name, binary)\n",
    "    if cv2.waitKey(500) == ord('q'):\n",
    "        break\n",
    "        \n",
    "cv2.destroyAllWindows()\n",
    "for i in range (1,5):\n",
    "    cv2.waitKey(1)"
   ]
  },
  {
   "cell_type": "markdown",
   "id": "aa7ed4d4",
   "metadata": {},
   "source": [
    "## 오츠 알고리즘"
   ]
  },
  {
   "cell_type": "markdown",
   "id": "8e7a985a",
   "metadata": {},
   "source": [
    "Bimodal image 에 사용하기 적합 (최적의 임계치를 자동으로 발견)"
   ]
  },
  {
   "cell_type": "code",
   "execution_count": null,
   "id": "928a4e5a",
   "metadata": {},
   "outputs": [],
   "source": [
    "import cv2\n",
    "img = cv2.imread('book.jpg', cv2.IMREAD_GRAYSCALE)\n",
    "\n",
    "ret, binary = cv2.threshold(img, 127, 255, cv2.THRESH_BINARY)\n",
    "ret, otsu = cv2.threshold(img, -1, 255, cv2.THRESH_BINARY | cv2.THRESH_OTSU) # -1 부분은 어차피 무시되는 값이라 보기 쉽게 -1적음\n",
    "print('otsu threshold ', ret) # 임계치가 100이라고 출력이 된것이다.\n",
    "\n",
    "cv2.imshow('img', img)\n",
    "cv2.imshow('binary', binary)\n",
    "cv2.imshow('otsu', otsu)\n",
    "cv2.waitKey(0)\n",
    "cv2.destroyAllWindows()"
   ]
  }
 ],
 "metadata": {
  "kernelspec": {
   "display_name": "Python 3 (ipykernel)",
   "language": "python",
   "name": "python3"
  },
  "language_info": {
   "codemirror_mode": {
    "name": "ipython",
    "version": 3
   },
   "file_extension": ".py",
   "mimetype": "text/x-python",
   "name": "python",
   "nbconvert_exporter": "python",
   "pygments_lexer": "ipython3",
   "version": "3.8.13"
  },
  "vscode": {
   "interpreter": {
    "hash": "4f05e964b4d2e4afbb91fe932de86bd0523d55968cb2083dd8663aabd8c2c6a1"
   }
  }
 },
 "nbformat": 4,
 "nbformat_minor": 5
}
