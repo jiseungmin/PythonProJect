{
 "cells": [
  {
   "cell_type": "markdown",
   "id": "ef138531",
   "metadata": {},
   "source": [
    "# 4. 텍스트"
   ]
  },
  {
   "cell_type": "markdown",
   "id": "1172dcbf",
   "metadata": {},
   "source": [
    "## OpenCV에서 사용하는 글꼴의 종류\n",
    "1. cv2.FONT_HERSHEY_SIMPLEX : 보통크기의 산 세리프 글꼴\n",
    "2. cv2.FONT_HERSHEY_PLAIN : 작은크기의 산 세리프 글꼴\n",
    "3. cv2.FONT_HERSHEY_SCRIPT_SIMPLEX : 필기체 스타일 글꼴\n",
    "4. cv2.FONT_HERSHEY_TRIPLEX : 보통크기의 세리프의 종류\n",
    "5. cv2.FONT_ITALIC : 기울임"
   ]
  },
  {
   "cell_type": "code",
   "execution_count": 1,
   "id": "c08680dc",
   "metadata": {},
   "outputs": [],
   "source": [
    "import numpy as np\n",
    "import cv2\n",
    "\n",
    "img = np.zeros((480,640,3), dtype=np.uint8)\n",
    "\n",
    "scale = 3 # 크기\n",
    "color = (255,255,255) # 색깔\n",
    "thickness = 1 # 두께\n",
    "\n",
    "cv2.putText(img, 'simplex', (20,50), cv2.FONT_HERSHEY_SIMPLEX,scale,color,thickness)\n",
    "cv2.putText(img, 'simplex', (20,150), cv2.FONT_HERSHEY_PLAIN,scale,color,thickness)\n",
    "cv2.putText(img, 'simplex', (20,250), cv2.FONT_HERSHEY_SCRIPT_SIMPLEX,scale,color,thickness)\n",
    "cv2.putText(img, 'simplex', (20,350), cv2.FONT_HERSHEY_TRIPLEX,scale,color,thickness)\n",
    "cv2.putText(img, 'simplex', (20,450), cv2.FONT_HERSHEY_TRIPLEX | cv2.FONT_ITALIC,scale,color,thickness)\n",
    "\n",
    "cv2.imshow('img',img)\n",
    "cv2.waitKey(0)\n",
    "cv2.destroyAllWindows() # 모든 창 닫기\n",
    "for i in range (1,5):\n",
    "    cv2.waitKey(1)"
   ]
  },
  {
   "cell_type": "markdown",
   "id": "08990adf",
   "metadata": {},
   "source": [
    "# 한글 우회 방법"
   ]
  },
  {
   "cell_type": "code",
   "execution_count": 31,
   "id": "0a4612da",
   "metadata": {},
   "outputs": [
    {
     "ename": "OSError",
     "evalue": "cannot open resource",
     "output_type": "error",
     "traceback": [
      "\u001b[0;31m---------------------------------------------------------------------------\u001b[0m",
      "\u001b[0;31mOSError\u001b[0m                                   Traceback (most recent call last)",
      "Input \u001b[0;32mIn [31]\u001b[0m, in \u001b[0;36m<cell line: 18>\u001b[0;34m()\u001b[0m\n\u001b[1;32m     15\u001b[0m Font_size \u001b[38;5;241m=\u001b[39m \u001b[38;5;241m30\u001b[39m \u001b[38;5;66;03m# 크기\u001b[39;00m\n\u001b[1;32m     16\u001b[0m color \u001b[38;5;241m=\u001b[39m (\u001b[38;5;241m255\u001b[39m,\u001b[38;5;241m255\u001b[39m,\u001b[38;5;241m255\u001b[39m) \u001b[38;5;66;03m# 색깔\u001b[39;00m\n\u001b[0;32m---> 18\u001b[0m img \u001b[38;5;241m=\u001b[39m \u001b[43mmyPutText\u001b[49m\u001b[43m(\u001b[49m\u001b[43mimg\u001b[49m\u001b[43m,\u001b[49m\u001b[43m \u001b[49m\u001b[38;5;124;43m'\u001b[39;49m\u001b[38;5;124;43m지승민\u001b[39;49m\u001b[38;5;124;43m'\u001b[39;49m\u001b[43m,\u001b[49m\u001b[43m \u001b[49m\u001b[43m(\u001b[49m\u001b[38;5;241;43m20\u001b[39;49m\u001b[43m,\u001b[49m\u001b[38;5;241;43m50\u001b[39;49m\u001b[43m)\u001b[49m\u001b[43m,\u001b[49m\u001b[43m \u001b[49m\u001b[43mFont_size\u001b[49m\u001b[43m,\u001b[49m\u001b[43m \u001b[49m\u001b[43mcolor\u001b[49m\u001b[43m)\u001b[49m\n\u001b[1;32m     20\u001b[0m cv2\u001b[38;5;241m.\u001b[39mimshow(\u001b[38;5;124m'\u001b[39m\u001b[38;5;124mimg\u001b[39m\u001b[38;5;124m'\u001b[39m,img)\n\u001b[1;32m     21\u001b[0m cv2\u001b[38;5;241m.\u001b[39mwaitKey(\u001b[38;5;241m0\u001b[39m)\n",
      "Input \u001b[0;32mIn [31]\u001b[0m, in \u001b[0;36mmyPutText\u001b[0;34m(src, text, pos, font_size, font_color)\u001b[0m\n\u001b[1;32m      7\u001b[0m img_pil \u001b[38;5;241m=\u001b[39m Image\u001b[38;5;241m.\u001b[39mfromarray(src)\n\u001b[1;32m      8\u001b[0m draw \u001b[38;5;241m=\u001b[39m ImageDraw\u001b[38;5;241m.\u001b[39mDraw(img_pil)\n\u001b[0;32m----> 9\u001b[0m font \u001b[38;5;241m=\u001b[39m \u001b[43mImageFont\u001b[49m\u001b[38;5;241;43m.\u001b[39;49m\u001b[43mtruetype\u001b[49m\u001b[43m(\u001b[49m\u001b[38;5;124;43m\"\u001b[39;49m\u001b[38;5;124;43mfont\u001b[39;49m\u001b[38;5;124;43m\\\u001b[39;49m\u001b[38;5;124;43mgulim.ttc\u001b[39;49m\u001b[38;5;124;43m\"\u001b[39;49m\u001b[43m,\u001b[49m\u001b[43m \u001b[49m\u001b[43mfont_size\u001b[49m\u001b[43m)\u001b[49m\n\u001b[1;32m     10\u001b[0m draw\u001b[38;5;241m.\u001b[39mtext(pos, text, font\u001b[38;5;241m=\u001b[39mfont, fill \u001b[38;5;241m=\u001b[39m font_color)\n\u001b[1;32m     11\u001b[0m \u001b[38;5;28;01mreturn\u001b[39;00m np\u001b[38;5;241m.\u001b[39marray(img_pil)\n",
      "File \u001b[0;32m~/miniforge3/envs/tf/lib/python3.8/site-packages/PIL/ImageFont.py:844\u001b[0m, in \u001b[0;36mtruetype\u001b[0;34m(font, size, index, encoding, layout_engine)\u001b[0m\n\u001b[1;32m    836\u001b[0m \u001b[38;5;28;01mdef\u001b[39;00m \u001b[38;5;21m__init__\u001b[39m(\u001b[38;5;28mself\u001b[39m, font, orientation\u001b[38;5;241m=\u001b[39m\u001b[38;5;28;01mNone\u001b[39;00m):\n\u001b[1;32m    837\u001b[0m     \u001b[38;5;124;03m\"\"\"\u001b[39;00m\n\u001b[1;32m    838\u001b[0m \u001b[38;5;124;03m    Wrapper that creates a transposed font from any existing font\u001b[39;00m\n\u001b[1;32m    839\u001b[0m \u001b[38;5;124;03m    object.\u001b[39;00m\n\u001b[1;32m    840\u001b[0m \n\u001b[1;32m    841\u001b[0m \u001b[38;5;124;03m    :param font: A font object.\u001b[39;00m\n\u001b[1;32m    842\u001b[0m \u001b[38;5;124;03m    :param orientation: An optional orientation.  If given, this should\u001b[39;00m\n\u001b[1;32m    843\u001b[0m \u001b[38;5;124;03m        be one of Image.Transpose.FLIP_LEFT_RIGHT, Image.Transpose.FLIP_TOP_BOTTOM,\u001b[39;00m\n\u001b[0;32m--> 844\u001b[0m \u001b[38;5;124;03m        Image.Transpose.ROTATE_90, Image.Transpose.ROTATE_180, or\u001b[39;00m\n\u001b[1;32m    845\u001b[0m \u001b[38;5;124;03m        Image.Transpose.ROTATE_270.\u001b[39;00m\n\u001b[1;32m    846\u001b[0m \u001b[38;5;124;03m    \"\"\"\u001b[39;00m\n\u001b[1;32m    847\u001b[0m     \u001b[38;5;28mself\u001b[39m\u001b[38;5;241m.\u001b[39mfont \u001b[38;5;241m=\u001b[39m font\n\u001b[1;32m    848\u001b[0m     \u001b[38;5;28mself\u001b[39m\u001b[38;5;241m.\u001b[39morientation \u001b[38;5;241m=\u001b[39m orientation\n",
      "File \u001b[0;32m~/miniforge3/envs/tf/lib/python3.8/site-packages/PIL/ImageFont.py:841\u001b[0m, in \u001b[0;36mfreetype\u001b[0;34m(font)\u001b[0m\n\u001b[1;32m    836\u001b[0m \u001b[38;5;28;01mdef\u001b[39;00m \u001b[38;5;21m__init__\u001b[39m(\u001b[38;5;28mself\u001b[39m, font, orientation\u001b[38;5;241m=\u001b[39m\u001b[38;5;28;01mNone\u001b[39;00m):\n\u001b[1;32m    837\u001b[0m     \u001b[38;5;124;03m\"\"\"\u001b[39;00m\n\u001b[1;32m    838\u001b[0m \u001b[38;5;124;03m    Wrapper that creates a transposed font from any existing font\u001b[39;00m\n\u001b[1;32m    839\u001b[0m \u001b[38;5;124;03m    object.\u001b[39;00m\n\u001b[1;32m    840\u001b[0m \n\u001b[0;32m--> 841\u001b[0m \u001b[38;5;124;03m    :param font: A font object.\u001b[39;00m\n\u001b[1;32m    842\u001b[0m \u001b[38;5;124;03m    :param orientation: An optional orientation.  If given, this should\u001b[39;00m\n\u001b[1;32m    843\u001b[0m \u001b[38;5;124;03m        be one of Image.Transpose.FLIP_LEFT_RIGHT, Image.Transpose.FLIP_TOP_BOTTOM,\u001b[39;00m\n\u001b[1;32m    844\u001b[0m \u001b[38;5;124;03m        Image.Transpose.ROTATE_90, Image.Transpose.ROTATE_180, or\u001b[39;00m\n\u001b[1;32m    845\u001b[0m \u001b[38;5;124;03m        Image.Transpose.ROTATE_270.\u001b[39;00m\n\u001b[1;32m    846\u001b[0m \u001b[38;5;124;03m    \"\"\"\u001b[39;00m\n\u001b[1;32m    847\u001b[0m     \u001b[38;5;28mself\u001b[39m\u001b[38;5;241m.\u001b[39mfont \u001b[38;5;241m=\u001b[39m font\n\u001b[1;32m    848\u001b[0m     \u001b[38;5;28mself\u001b[39m\u001b[38;5;241m.\u001b[39morientation \u001b[38;5;241m=\u001b[39m orientation\n",
      "File \u001b[0;32m~/miniforge3/envs/tf/lib/python3.8/site-packages/PIL/ImageFont.py:193\u001b[0m, in \u001b[0;36m__init__\u001b[0;34m(self, font, size, index, encoding, layout_engine)\u001b[0m\n\u001b[1;32m    190\u001b[0m \u001b[38;5;28;01mdef\u001b[39;00m \u001b[38;5;21mgetlength\u001b[39m(\u001b[38;5;28mself\u001b[39m, text, \u001b[38;5;241m*\u001b[39margs, \u001b[38;5;241m*\u001b[39m\u001b[38;5;241m*\u001b[39mkwargs):\n\u001b[1;32m    191\u001b[0m     \u001b[38;5;124;03m\"\"\"\u001b[39;00m\n\u001b[1;32m    192\u001b[0m \u001b[38;5;124;03m    Returns length (in pixels) of given text.\u001b[39;00m\n\u001b[0;32m--> 193\u001b[0m \u001b[38;5;124;03m    This is the amount by which following text should be offset.\u001b[39;00m\n\u001b[1;32m    194\u001b[0m \n\u001b[1;32m    195\u001b[0m \u001b[38;5;124;03m    .. versionadded:: 9.2.0\u001b[39;00m\n\u001b[1;32m    196\u001b[0m \u001b[38;5;124;03m    \"\"\"\u001b[39;00m\n\u001b[1;32m    197\u001b[0m     width, height \u001b[38;5;241m=\u001b[39m \u001b[38;5;28mself\u001b[39m\u001b[38;5;241m.\u001b[39mfont\u001b[38;5;241m.\u001b[39mgetsize(text)\n\u001b[1;32m    198\u001b[0m     \u001b[38;5;28;01mreturn\u001b[39;00m width\n",
      "\u001b[0;31mOSError\u001b[0m: cannot open resource"
     ]
    }
   ],
   "source": [
    "import numpy as np\n",
    "import cv2\n",
    "# PlL\n",
    "from PIL import ImageFont, ImageDraw, Image\n",
    "\n",
    "def myPutText(src, text, pos, font_size, font_color):\n",
    "    img_pil = Image.fromarray(src)\n",
    "    draw = ImageDraw.Draw(img_pil)\n",
    "    font = ImageFont.truetype(\"font/gulim.ttc\", font_size)\n",
    "    draw.text(pos, text, font=font, fill = font_color)\n",
    "    return np.array(img_pil)\n",
    "\n",
    "img = np.zeros((480,640,3), dtype=np.uint8)\n",
    "\n",
    "Font_size = 30 # 크기\n",
    "color = (255,255,255) # 색깔\n",
    "\n",
    "img = myPutText(img, '지승민', (20,50), Font_size, color)\n",
    "\n",
    "cv2.imshow('img',img)\n",
    "cv2.waitKey(0)\n",
    "cv2.destroyAllWindows() # 모든 창 닫기\n",
    "for i in range (1,5):\n",
    "    cv2.waitKey(1)"
   ]
  }
 ],
 "metadata": {
  "kernelspec": {
   "display_name": "Python 3 (ipykernel)",
   "language": "python",
   "name": "python3"
  },
  "language_info": {
   "codemirror_mode": {
    "name": "ipython",
    "version": 3
   },
   "file_extension": ".py",
   "mimetype": "text/x-python",
   "name": "python",
   "nbconvert_exporter": "python",
   "pygments_lexer": "ipython3",
   "version": "3.8.6"
  }
 },
 "nbformat": 4,
 "nbformat_minor": 5
}
